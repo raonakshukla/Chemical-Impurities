{
 "cells": [
  {
   "cell_type": "code",
   "execution_count": 1,
   "id": "277aef1f",
   "metadata": {},
   "outputs": [
    {
     "name": "stderr",
     "output_type": "stream",
     "text": [
      "C:\\Users\\raona\\anaconda3\\lib\\site-packages\\scipy\\__init__.py:146: UserWarning: A NumPy version >=1.16.5 and <1.23.0 is required for this version of SciPy (detected version 1.26.4\n",
      "  warnings.warn(f\"A NumPy version >={np_minversion} and <{np_maxversion}\"\n"
     ]
    }
   ],
   "source": [
    "import warnings\n",
    "warnings.simplefilter(action='ignore', category=FutureWarning)\n",
    "\n",
    "import numpy as np\n",
    "import pandas as pd\n",
    "import matplotlib.pyplot as plt\n",
    "import seaborn as sns\n",
    "import sklearn"
   ]
  },
  {
   "cell_type": "code",
   "execution_count": 2,
   "id": "6eb44a83",
   "metadata": {},
   "outputs": [],
   "source": [
    "df = pd.read_csv('training_set.csv')\n",
    "df_test = pd.read_csv('test_set.csv')"
   ]
  },
  {
   "cell_type": "code",
   "execution_count": 3,
   "id": "2b4bec36",
   "metadata": {},
   "outputs": [],
   "source": [
    "y = df['Impurity.Type']\n",
    "X = df.drop(['Impurity.Type','Impurity.Percent'],axis= 'columns')"
   ]
  },
  {
   "cell_type": "code",
   "execution_count": 4,
   "id": "a5323080",
   "metadata": {},
   "outputs": [
    {
     "name": "stderr",
     "output_type": "stream",
     "text": [
      "C:\\Users\\raona\\anaconda3\\lib\\site-packages\\sklearn\\model_selection\\_split.py:676: UserWarning: The least populated class in y has only 5 members, which is less than n_splits=10.\n",
      "  warnings.warn(\n",
      "C:\\Users\\raona\\anaconda3\\lib\\site-packages\\sklearn\\model_selection\\_split.py:676: UserWarning: The least populated class in y has only 5 members, which is less than n_splits=10.\n",
      "  warnings.warn(\n",
      "C:\\Users\\raona\\anaconda3\\lib\\site-packages\\sklearn\\model_selection\\_split.py:676: UserWarning: The least populated class in y has only 5 members, which is less than n_splits=10.\n",
      "  warnings.warn(\n"
     ]
    },
    {
     "name": "stdout",
     "output_type": "stream",
     "text": [
      "Accuracy: 0.915 (0.102)\n"
     ]
    }
   ],
   "source": [
    "\n",
    "# evaluate lda with logistic regression algorithm for classification\n",
    "from numpy import mean\n",
    "from numpy import std\n",
    "from sklearn.datasets import make_classification\n",
    "from sklearn.model_selection import cross_val_score\n",
    "from sklearn.model_selection import RepeatedStratifiedKFold\n",
    "from sklearn.pipeline import Pipeline\n",
    "from sklearn.discriminant_analysis import LinearDiscriminantAnalysis\n",
    "from sklearn.linear_model import LogisticRegression\n",
    "\n",
    "# define the pipeline\n",
    "steps = [('lda', LinearDiscriminantAnalysis(n_components=5)), ('m', LogisticRegression(solver='lbfgs',random_state=555,C=25))]\n",
    "model = Pipeline(steps=steps)\n",
    "\n",
    "# evaluate model\n",
    "cv = RepeatedStratifiedKFold(n_splits=10, n_repeats=3, random_state=1)\n",
    "n_scores = cross_val_score(model, X, y, scoring='accuracy', cv=cv, n_jobs=-1)\n",
    "\n",
    "# report performance\n",
    "print('Accuracy: %.3f (%.3f)' % (mean(n_scores), std(n_scores)))"
   ]
  },
  {
   "cell_type": "code",
   "execution_count": 10,
   "id": "5dccf009",
   "metadata": {},
   "outputs": [
    {
     "name": "stdout",
     "output_type": "stream",
     "text": [
      "Accuracy: 0.851 (0.092)\n"
     ]
    },
    {
     "name": "stderr",
     "output_type": "stream",
     "text": [
      "C:\\Users\\raona\\anaconda3\\lib\\site-packages\\sklearn\\model_selection\\_split.py:676: UserWarning: The least populated class in y has only 5 members, which is less than n_splits=10.\n",
      "  warnings.warn(\n",
      "C:\\Users\\raona\\anaconda3\\lib\\site-packages\\sklearn\\model_selection\\_split.py:676: UserWarning: The least populated class in y has only 5 members, which is less than n_splits=10.\n",
      "  warnings.warn(\n",
      "C:\\Users\\raona\\anaconda3\\lib\\site-packages\\sklearn\\model_selection\\_split.py:676: UserWarning: The least populated class in y has only 5 members, which is less than n_splits=10.\n",
      "  warnings.warn(\n"
     ]
    }
   ],
   "source": [
    "from sklearn.neighbors import (NeighborhoodComponentsAnalysis,KNeighborsClassifier)\n",
    "from sklearn.pipeline import Pipeline\n",
    "nca = NeighborhoodComponentsAnalysis(random_state=42)\n",
    "knn = KNeighborsClassifier(n_neighbors=1)\n",
    "nca_pipe = Pipeline([('nca', nca), ('knn', knn)])\n",
    "nca_pipe.fit(X, y)\n",
    "cv = RepeatedStratifiedKFold(n_splits=10, n_repeats=3, random_state=1)\n",
    "n_scores = cross_val_score(nca_pipe, X, y, scoring='accuracy', cv=cv, n_jobs=-1)\n",
    "# report performance\n",
    "print('Accuracy: %.3f (%.3f)' % (mean(n_scores), std(n_scores)))"
   ]
  },
  {
   "cell_type": "code",
   "execution_count": 5,
   "id": "085c2f30",
   "metadata": {},
   "outputs": [
    {
     "name": "stderr",
     "output_type": "stream",
     "text": [
      "C:\\Users\\raona\\anaconda3\\lib\\site-packages\\sklearn\\linear_model\\_logistic.py:814: ConvergenceWarning: lbfgs failed to converge (status=1):\n",
      "STOP: TOTAL NO. of ITERATIONS REACHED LIMIT.\n",
      "\n",
      "Increase the number of iterations (max_iter) or scale the data as shown in:\n",
      "    https://scikit-learn.org/stable/modules/preprocessing.html\n",
      "Please also refer to the documentation for alternative solver options:\n",
      "    https://scikit-learn.org/stable/modules/linear_model.html#logistic-regression\n",
      "  n_iter_i = _check_optimize_result(\n"
     ]
    },
    {
     "data": {
      "text/plain": [
       "Pipeline(steps=[('lda', LinearDiscriminantAnalysis(n_components=5)),\n",
       "                ('m', LogisticRegression(C=25, random_state=555))])"
      ]
     },
     "execution_count": 5,
     "metadata": {},
     "output_type": "execute_result"
    }
   ],
   "source": [
    "# Fiiting the Model and predicting the results\n",
    "model.fit(X,y)"
   ]
  },
  {
   "cell_type": "code",
   "execution_count": 6,
   "id": "e73db2a9",
   "metadata": {},
   "outputs": [],
   "source": [
    "df_test['g.hat'] = model.predict(df_test)"
   ]
  },
  {
   "cell_type": "code",
   "execution_count": 7,
   "id": "7198fe7e",
   "metadata": {},
   "outputs": [],
   "source": [
    "df_test.to_csv('classification.csv',index= False)"
   ]
  },
  {
   "cell_type": "code",
   "execution_count": 84,
   "id": "a3cb3dbc",
   "metadata": {},
   "outputs": [],
   "source": [
    "df['g.hat'] = model.predict(X)"
   ]
  },
  {
   "cell_type": "code",
   "execution_count": 85,
   "id": "704e7e25",
   "metadata": {},
   "outputs": [],
   "source": [
    "df.to_csv('classification_test.csv',index= False)"
   ]
  },
  {
   "cell_type": "code",
   "execution_count": 9,
   "id": "3ccdae45",
   "metadata": {},
   "outputs": [
    {
     "name": "stderr",
     "output_type": "stream",
     "text": [
      "C:\\Users\\raona\\anaconda3\\lib\\site-packages\\sklearn\\neural_network\\_multilayer_perceptron.py:692: ConvergenceWarning: Stochastic Optimizer: Maximum iterations (200) reached and the optimization hasn't converged yet.\n",
      "  warnings.warn(\n",
      "C:\\Users\\raona\\anaconda3\\lib\\site-packages\\sklearn\\model_selection\\_split.py:676: UserWarning: The least populated class in y has only 5 members, which is less than n_splits=10.\n",
      "  warnings.warn(\n",
      "C:\\Users\\raona\\anaconda3\\lib\\site-packages\\sklearn\\neural_network\\_multilayer_perceptron.py:692: ConvergenceWarning: Stochastic Optimizer: Maximum iterations (200) reached and the optimization hasn't converged yet.\n",
      "  warnings.warn(\n",
      "C:\\Users\\raona\\anaconda3\\lib\\site-packages\\sklearn\\neural_network\\_multilayer_perceptron.py:692: ConvergenceWarning: Stochastic Optimizer: Maximum iterations (200) reached and the optimization hasn't converged yet.\n",
      "  warnings.warn(\n",
      "C:\\Users\\raona\\anaconda3\\lib\\site-packages\\sklearn\\neural_network\\_multilayer_perceptron.py:692: ConvergenceWarning: Stochastic Optimizer: Maximum iterations (200) reached and the optimization hasn't converged yet.\n",
      "  warnings.warn(\n",
      "C:\\Users\\raona\\anaconda3\\lib\\site-packages\\sklearn\\neural_network\\_multilayer_perceptron.py:692: ConvergenceWarning: Stochastic Optimizer: Maximum iterations (200) reached and the optimization hasn't converged yet.\n",
      "  warnings.warn(\n",
      "C:\\Users\\raona\\anaconda3\\lib\\site-packages\\sklearn\\neural_network\\_multilayer_perceptron.py:692: ConvergenceWarning: Stochastic Optimizer: Maximum iterations (200) reached and the optimization hasn't converged yet.\n",
      "  warnings.warn(\n",
      "C:\\Users\\raona\\anaconda3\\lib\\site-packages\\sklearn\\neural_network\\_multilayer_perceptron.py:692: ConvergenceWarning: Stochastic Optimizer: Maximum iterations (200) reached and the optimization hasn't converged yet.\n",
      "  warnings.warn(\n",
      "C:\\Users\\raona\\anaconda3\\lib\\site-packages\\sklearn\\neural_network\\_multilayer_perceptron.py:692: ConvergenceWarning: Stochastic Optimizer: Maximum iterations (200) reached and the optimization hasn't converged yet.\n",
      "  warnings.warn(\n"
     ]
    },
    {
     "name": "stdout",
     "output_type": "stream",
     "text": [
      "Accuracy: 0.62(+- 0.11)\n"
     ]
    },
    {
     "name": "stderr",
     "output_type": "stream",
     "text": [
      "C:\\Users\\raona\\anaconda3\\lib\\site-packages\\sklearn\\neural_network\\_multilayer_perceptron.py:692: ConvergenceWarning: Stochastic Optimizer: Maximum iterations (200) reached and the optimization hasn't converged yet.\n",
      "  warnings.warn(\n",
      "C:\\Users\\raona\\anaconda3\\lib\\site-packages\\sklearn\\neural_network\\_multilayer_perceptron.py:692: ConvergenceWarning: Stochastic Optimizer: Maximum iterations (200) reached and the optimization hasn't converged yet.\n",
      "  warnings.warn(\n",
      "C:\\Users\\raona\\anaconda3\\lib\\site-packages\\sklearn\\neural_network\\_multilayer_perceptron.py:692: ConvergenceWarning: Stochastic Optimizer: Maximum iterations (200) reached and the optimization hasn't converged yet.\n",
      "  warnings.warn(\n"
     ]
    }
   ],
   "source": [
    "from sklearn.neural_network import MLPClassifier\n",
    "mlp = MLPClassifier()\n",
    "mlp.fit(X, y)\n",
    "DTscore=cross_val_score(mlp,X,y,cv=10)\n",
    "print(\"Accuracy: %0.2f(+- %0.2f)\"%(DTscore.mean(),DTscore.std()))"
   ]
  },
  {
   "cell_type": "code",
   "execution_count": 29,
   "id": "5e9cdb25",
   "metadata": {},
   "outputs": [
    {
     "name": "stdout",
     "output_type": "stream",
     "text": [
      "3\n"
     ]
    },
    {
     "data": {
      "text/plain": [
       "Index(['II', 'IV', 'V'], dtype='object')"
      ]
     },
     "execution_count": 29,
     "metadata": {},
     "output_type": "execute_result"
    }
   ],
   "source": [
    "from sklearn.feature_selection import SelectFromModel\n",
    "from sklearn.ensemble import RandomForestClassifier\n",
    "\n",
    "sel = SelectFromModel(RandomForestClassifier(n_estimators = 1000))\n",
    "sel.fit(X, y)\n",
    "selected_feat= X.columns[(sel.get_support())]\n",
    "print(len(selected_feat))\n",
    "\n",
    "selected_feat"
   ]
  },
  {
   "cell_type": "code",
   "execution_count": 10,
   "id": "b8d06597",
   "metadata": {},
   "outputs": [
    {
     "data": {
      "text/plain": [
       "array([[ 0.03159499,  0.98698776],\n",
       "       [ 2.11509784, -0.04624397],\n",
       "       [ 0.88248972, -0.07575606],\n",
       "       [-0.0551441 , -0.03733246],\n",
       "       [ 0.82954503, -0.53932149],\n",
       "       [ 2.11285708,  0.66208353],\n",
       "       [ 0.5696927 ,  0.33744136],\n",
       "       [ 0.95217454, -0.75307471],\n",
       "       [-0.02922115,  0.39287336],\n",
       "       [ 1.71579557,  0.36069454],\n",
       "       [-0.27883014,  0.61420539],\n",
       "       [ 2.00344509, -0.3091496 ],\n",
       "       [ 1.50009616, -0.74636376],\n",
       "       [ 1.22540835,  1.19793017],\n",
       "       [ 0.46730819,  0.54703192],\n",
       "       [-0.36653222,  1.11971633],\n",
       "       [ 0.30124459,  1.23315697],\n",
       "       [ 0.30430746,  0.82373935],\n",
       "       [-0.23712492,  0.77876034],\n",
       "       [ 1.16339832,  0.55290238],\n",
       "       [-0.59702417,  0.6572361 ],\n",
       "       [ 0.46356735, -0.1951543 ],\n",
       "       [ 0.68451111,  0.75287685],\n",
       "       [ 0.70515699, -0.45892444],\n",
       "       [-0.65805008, -0.12944211],\n",
       "       [-0.74662946, -0.3829632 ],\n",
       "       [ 0.60585226,  0.31252842],\n",
       "       [ 2.18137168, -0.02291747],\n",
       "       [ 1.91980633,  0.17247329],\n",
       "       [ 1.4834364 , -0.10517023],\n",
       "       [ 0.47404723, -0.14575067],\n",
       "       [ 1.05614605, -1.03570207],\n",
       "       [ 1.86500732, -0.01107874],\n",
       "       [ 0.4194721 , -0.32478101],\n",
       "       [ 0.06873258,  0.56648467],\n",
       "       [-0.17332432,  1.00215131],\n",
       "       [ 0.12412421,  1.00062892],\n",
       "       [ 0.18121142,  0.24717743],\n",
       "       [-0.25451559,  0.19317272],\n",
       "       [ 1.02580668, -0.62574566],\n",
       "       [ 1.52002143, -0.04515581],\n",
       "       [ 0.64174037, -0.39369468],\n",
       "       [-0.87615589,  0.0465662 ],\n",
       "       [-1.06964997,  0.13666025],\n",
       "       [ 1.02658765,  0.37782458],\n",
       "       [ 0.93131325,  1.38517841],\n",
       "       [ 0.67680544,  1.57189931],\n",
       "       [-0.36885733,  0.72886601],\n",
       "       [-1.02465495,  0.16190215],\n",
       "       [ 0.77455385,  0.15375803],\n",
       "       [ 1.4045116 , -0.00705701],\n",
       "       [-0.38147174, -0.23488747],\n",
       "       [ 0.72155224,  0.44721658],\n",
       "       [-0.51346686,  0.67869095],\n",
       "       [ 0.32118546,  0.28668667],\n",
       "       [ 0.1953628 ,  0.16085107],\n",
       "       [ 0.52824196,  0.98300993],\n",
       "       [-0.2216539 ,  0.25160139],\n",
       "       [ 0.22334676,  1.32217183],\n",
       "       [-0.10704572,  0.56178326],\n",
       "       [ 0.63651685,  0.75444825],\n",
       "       [-0.37227848,  0.99291317],\n",
       "       [ 0.20718083, -0.09767143],\n",
       "       [ 0.12733142, -0.3796549 ],\n",
       "       [ 0.71435231, -0.79994161],\n",
       "       [ 1.09487814, -0.36841845],\n",
       "       [-0.14814362,  0.96158657],\n",
       "       [ 1.586188  , -0.62984517],\n",
       "       [ 0.74444551,  0.57661371],\n",
       "       [ 2.18011028, -0.69977751],\n",
       "       [ 0.24575594,  0.8496383 ],\n",
       "       [-0.95003581,  0.90361699],\n",
       "       [-0.88230758,  0.07249044],\n",
       "       [ 2.02297079,  0.12325148],\n",
       "       [ 2.14577321,  0.46296362],\n",
       "       [ 0.35536468, -0.67847989],\n",
       "       [ 0.34665026,  1.11570676],\n",
       "       [ 1.7392373 ,  0.45900352],\n",
       "       [ 0.63856467, -0.44718443],\n",
       "       [ 1.2876687 , -0.4910366 ],\n",
       "       [-0.13772607,  1.2453262 ],\n",
       "       [-0.56175303,  1.05486051],\n",
       "       [ 1.29003748, -0.20691405],\n",
       "       [-0.87539365,  0.50543423],\n",
       "       [-0.92858249, -0.45631991],\n",
       "       [ 0.02493632,  0.10747958],\n",
       "       [ 0.1972559 , -0.06801668],\n",
       "       [ 0.73346056,  0.28161929],\n",
       "       [ 1.68294434, -0.2020423 ],\n",
       "       [ 0.50764124, -0.11731979],\n",
       "       [ 1.66760217, -0.42485665],\n",
       "       [-0.82172282,  0.63141066],\n",
       "       [ 0.30170903,  0.78603534],\n",
       "       [ 1.37671505, -0.80915107],\n",
       "       [ 1.17037551,  0.59840653],\n",
       "       [ 1.69945309,  0.58771967],\n",
       "       [ 0.21862323, -0.65252119],\n",
       "       [ 0.95291428, -0.41976564],\n",
       "       [-1.31850034,  0.42311235],\n",
       "       [-1.29681764,  0.18414709]])"
      ]
     },
     "execution_count": 10,
     "metadata": {},
     "output_type": "execute_result"
    }
   ],
   "source": [
    "from sklearn.datasets import make_moons\n",
    "X, y = make_moons(noise=0.3, random_state=0)\n",
    "X"
   ]
  },
  {
   "cell_type": "code",
   "execution_count": null,
   "id": "9ecbf40a",
   "metadata": {},
   "outputs": [],
   "source": []
  }
 ],
 "metadata": {
  "kernelspec": {
   "display_name": "Python 3 (ipykernel)",
   "language": "python",
   "name": "python3"
  },
  "language_info": {
   "codemirror_mode": {
    "name": "ipython",
    "version": 3
   },
   "file_extension": ".py",
   "mimetype": "text/x-python",
   "name": "python",
   "nbconvert_exporter": "python",
   "pygments_lexer": "ipython3",
   "version": "3.11.7"
  }
 },
 "nbformat": 4,
 "nbformat_minor": 5
}
